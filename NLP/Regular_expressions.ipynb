{
  "cells": [
    {
      "cell_type": "code",
      "execution_count": null,
      "metadata": {
        "id": "xm9NCl_xPo9a"
      },
      "outputs": [],
      "source": [
        "import re"
      ]
    },
    {
      "cell_type": "markdown",
      "metadata": {
        "id": "yiNsv-mp2Ggj"
      },
      "source": [
        "Matching phone no"
      ]
    },
    {
      "cell_type": "code",
      "execution_count": null,
      "metadata": {
        "colab": {
          "base_uri": "https://localhost:8080/"
        },
        "id": "gkKI49DGP-Cv",
        "outputId": "dfc2b072-a944-4b06-b25d-27ec8bb97533"
      },
      "outputs": [
        {
          "name": "stdout",
          "output_type": "stream",
          "text": [
            "['1235678912']\n"
          ]
        }
      ],
      "source": [
        "chat2 = 'here it is: (123)-567-8912, abc@xyz.com'\n",
        "chat3 = 'yes, phone: 1235678912 email: abc@xyz.com'\n",
        "\n",
        "pattern = '\\(\\d{3}\\)-\\d{3}-\\d{4}|\\d{10}'\n",
        "matches = re.findall(pattern,chat3)\n",
        "print(matches)"
      ]
    },
    {
      "cell_type": "markdown",
      "metadata": {
        "id": "co2jxAua2KBA"
      },
      "source": [
        "Matching email id"
      ]
    },
    {
      "cell_type": "code",
      "execution_count": null,
      "metadata": {
        "colab": {
          "base_uri": "https://localhost:8080/"
        },
        "id": "hbmenJqRQkUT",
        "outputId": "0a548717-36eb-48af-a065-192ada9f167d"
      },
      "outputs": [
        {
          "name": "stdout",
          "output_type": "stream",
          "text": [
            "['abc@xyz.com']\n"
          ]
        }
      ],
      "source": [
        "chat2 = ' here it is: (123)-567-8912, abc@xyz.com'\n",
        "chat3 = 'cyes, phone: 1235678912 email: abc@xyz.com'\n",
        "\n",
        "pattern = '[a-z0-9A-Z_]*@[a-z]*\\.[a-zA-Z0-9]*'\n",
        "matches = re.findall(pattern,chat2)\n",
        "print(matches)"
      ]
    },
    {
      "cell_type": "code",
      "execution_count": null,
      "metadata": {
        "id": "5ApK2mC24f9a"
      },
      "outputs": [],
      "source": [
        "chat1='Hello, I am having an issue with my order # 412889912'\n",
        "chat2='I have a problem with my order number 412889912'\n",
        "chat3='My order 412889912 is having an issue, I was charged 300$ when online it says 280$'"
      ]
    },
    {
      "cell_type": "code",
      "execution_count": null,
      "metadata": {
        "colab": {
          "base_uri": "https://localhost:8080/"
        },
        "id": "-hI91pzy4igm",
        "outputId": "e9185ad5-d5d1-4921-985c-043d36502f45"
      },
      "outputs": [
        {
          "name": "stdout",
          "output_type": "stream",
          "text": [
            "['412889912']\n"
          ]
        }
      ],
      "source": [
        "pattern = 'order[^\\d]*(\\d*)'\n",
        "matches = re.findall(pattern,chat1)\n",
        "print(matches)"
      ]
    },
    {
      "cell_type": "code",
      "execution_count": null,
      "metadata": {
        "id": "Wlhqm4Qzyhkr"
      },
      "outputs": [],
      "source": [
        "text='''\n",
        "Born\tElon Reeve Musk\n",
        "June 28, 1971 (age 50)\n",
        "Pretoria, Transvaal, South Africa\n",
        "Citizenship\n",
        "South Africa (1971-present)\n",
        "Canada (1971-present)\n",
        "United States (2002-present)\n",
        "Education\tUniversity of Pennsylvania (BS, BA)\n",
        "Title\n",
        "Founder, CEO and Chief Engineer of SpaceX\n",
        "CEO and product architect of Tesla, Inc.\n",
        "Founder of The Boring Company and X.com (now part of PayPal)\n",
        "Co-founder of Neuralink, OpenAI, and Zip2\n",
        "Spouse(s)\n",
        "Justine Wilson\n",
        "\n",
        "(m. 2000; div. 2008) \n",
        "Talulah Riley\n",
        "\n",
        "(m. 2010; div. 2012)  \n",
        "\n",
        "(m. 2013; div. 2016)\n",
        "'''"
      ]
    },
    {
      "cell_type": "code",
      "execution_count": null,
      "metadata": {
        "colab": {
          "base_uri": "https://localhost:8080/"
        },
        "id": "jTj66XUG0R0j",
        "outputId": "b598b000-ce66-4614-b30b-0f676c56a886"
      },
      "outputs": [
        {
          "name": "stdout",
          "output_type": "stream",
          "text": [
            "['50']\n"
          ]
        }
      ],
      "source": [
        "pattern = 'age (\\d+)'\n",
        "matches = re.findall(pattern,text)\n",
        "print(matches)"
      ]
    },
    {
      "cell_type": "code",
      "execution_count": null,
      "metadata": {
        "colab": {
          "base_uri": "https://localhost:8080/",
          "height": 36
        },
        "id": "gVQxzZZc1xKD",
        "outputId": "b561e34b-47cd-4ce1-a1ab-ced8089762c8"
      },
      "outputs": [
        {
          "data": {
            "application/vnd.google.colaboratory.intrinsic+json": {
              "type": "string"
            },
            "text/plain": [
              "'Elon Reeve Musk'"
            ]
          },
          "execution_count": 8,
          "metadata": {},
          "output_type": "execute_result"
        }
      ],
      "source": [
        "pattern = 'Born(.+)'\n",
        "matches = re.findall(pattern,text)\n",
        "matches[0].strip()"
      ]
    },
    {
      "cell_type": "code",
      "execution_count": null,
      "metadata": {
        "colab": {
          "base_uri": "https://localhost:8080/"
        },
        "id": "qGvn-v8Q2f_E",
        "outputId": "fdaf6e1a-b171-437b-ff61-40e823ea1e6b"
      },
      "outputs": [
        {
          "data": {
            "text/plain": [
              "['June 28, 1971 ']"
            ]
          },
          "execution_count": 9,
          "metadata": {},
          "output_type": "execute_result"
        }
      ],
      "source": [
        "pattern = 'Born.*\\n(.*)\\(age'\n",
        "matches = re.findall(pattern,text)\n",
        "matches"
      ]
    },
    {
      "cell_type": "code",
      "execution_count": null,
      "metadata": {
        "colab": {
          "base_uri": "https://localhost:8080/"
        },
        "id": "snLlMXeY6HF9",
        "outputId": "a7789bdf-56b9-4909-c0bb-ca9ccde785e8"
      },
      "outputs": [
        {
          "data": {
            "text/plain": [
              "['Pretoria, Transvaal, South Africa']"
            ]
          },
          "execution_count": 10,
          "metadata": {},
          "output_type": "execute_result"
        }
      ],
      "source": [
        "pattern = '\\(age.*\\n(.*)'\n",
        "matches = re.findall(pattern,text)\n",
        "matches"
      ]
    },
    {
      "cell_type": "code",
      "execution_count": null,
      "metadata": {
        "id": "nWTVR6N4Nw0N"
      },
      "outputs": [],
      "source": [
        "def get_pattern_match(pattern,text):\n",
        "  matches = re.findall(pattern,text)\n",
        "  if matches:\n",
        "    return matches[0]"
      ]
    },
    {
      "cell_type": "code",
      "execution_count": null,
      "metadata": {
        "colab": {
          "base_uri": "https://localhost:8080/",
          "height": 36
        },
        "id": "TwKl1wRwODxl",
        "outputId": "ee53c7a4-ed68-4bad-dc28-dd1e66924d84"
      },
      "outputs": [
        {
          "data": {
            "application/vnd.google.colaboratory.intrinsic+json": {
              "type": "string"
            },
            "text/plain": [
              "'1235678912'"
            ]
          },
          "execution_count": 9,
          "metadata": {},
          "output_type": "execute_result"
        }
      ],
      "source": [
        "get_pattern_match('\\(\\d{3}\\)-\\d{3}-\\d{4}|\\d{10}',chat1)"
      ]
    },
    {
      "cell_type": "code",
      "execution_count": null,
      "metadata": {
        "colab": {
          "base_uri": "https://localhost:8080/",
          "height": 36
        },
        "id": "VxKzYku5OXDy",
        "outputId": "bd2e5cdc-f7d4-4af3-d87e-08f9edccadfd"
      },
      "outputs": [
        {
          "data": {
            "application/vnd.google.colaboratory.intrinsic+json": {
              "type": "string"
            },
            "text/plain": [
              "'abc@xyz.com'"
            ]
          },
          "execution_count": 10,
          "metadata": {},
          "output_type": "execute_result"
        }
      ],
      "source": [
        "get_pattern_match('[a-z0-9A-Z_]*@[a-z]*\\.[a-zA-Z0-9]*',chat2)"
      ]
    },
    {
      "cell_type": "code",
      "execution_count": null,
      "metadata": {
        "id": "BQhv3G1Vgca4"
      },
      "outputs": [],
      "source": [
        "def extract_personal_information(text):\n",
        "    age = get_pattern_match('age (\\d+)', text)\n",
        "    full_name = get_pattern_match('Born(.*)\\n', text)\n",
        "    birth_date = get_pattern_match('Born.*\\n(.*)\\(age', text)\n",
        "    birth_place = get_pattern_match('\\(age.*\\n(.*)', text)\n",
        "    return{\n",
        "        'age':int(age),\n",
        "        'name':full_name.strip(),\n",
        "        'birth date':birth_date.strip(),\n",
        "        'birth place':birth_place.strip()\n",
        "    }"
      ]
    },
    {
      "cell_type": "code",
      "execution_count": null,
      "metadata": {
        "colab": {
          "base_uri": "https://localhost:8080/"
        },
        "id": "Mbp6_8Hwh8HO",
        "outputId": "fd13a4eb-01f5-46f2-d744-51f246acc099"
      },
      "outputs": [
        {
          "data": {
            "text/plain": [
              "{'age': 50,\n",
              " 'name': 'Elon Reeve Musk',\n",
              " 'birth date': 'June 28, 1971',\n",
              " 'birth place': 'Pretoria, Transvaal, South Africa'}"
            ]
          },
          "execution_count": 21,
          "metadata": {},
          "output_type": "execute_result"
        }
      ],
      "source": [
        "extract_personal_information(text)"
      ]
    },
    {
      "cell_type": "code",
      "execution_count": null,
      "metadata": {
        "id": "gCMsY7JriDNN"
      },
      "outputs": [],
      "source": [
        "text = '''\n",
        "Born\tMukesh Dhirubhai Ambani\n",
        "19 April 1957 (age 64)\n",
        "Aden, Colony of Aden\n",
        "(present-day Yemen)[1][2]\n",
        "Nationality\tIndian\n",
        "Alma mater\n",
        "St. Xavier's College, Mumbai\n",
        "Institute of Chemical Technology (B.E.)\n",
        "Stanford University (drop-out)\n",
        "Occupation\tChairman and MD, Reliance Industries\n",
        "Spouse(s)\tNita Ambani (m. 1985)[3]\n",
        "Children\t3\n",
        "Parent(s)\n",
        "Dhirubhai Ambani (father)\n",
        "Kokilaben Ambani (mother)\n",
        "Relatives\tAnil Ambani (brother)\n",
        "Tina Ambani (sister-in-law)\n",
        "'''"
      ]
    },
    {
      "cell_type": "code",
      "execution_count": null,
      "metadata": {
        "colab": {
          "base_uri": "https://localhost:8080/"
        },
        "id": "QuiPk-ukibGf",
        "outputId": "86cb97a2-7c67-4cf1-f1f9-bcc27c5fcf1b"
      },
      "outputs": [
        {
          "data": {
            "text/plain": [
              "{'age': 64,\n",
              " 'name': 'Mukesh Dhirubhai Ambani',\n",
              " 'birth date': '19 April 1957',\n",
              " 'birth place': 'Aden, Colony of Aden'}"
            ]
          },
          "execution_count": 23,
          "metadata": {},
          "output_type": "execute_result"
        }
      ],
      "source": [
        "extract_personal_information(text)"
      ]
    }
  ],
  "metadata": {
    "colab": {
      "provenance": []
    },
    "kernelspec": {
      "display_name": "Python 3",
      "name": "python3"
    },
    "language_info": {
      "name": "python"
    }
  },
  "nbformat": 4,
  "nbformat_minor": 0
}
